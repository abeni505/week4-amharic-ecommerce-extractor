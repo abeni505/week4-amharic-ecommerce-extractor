{
 "cells": [
  {
   "cell_type": "code",
   "execution_count": null,
   "metadata": {},
   "outputs": [],
   "source": [
    "# Imports and Setup\n",
    "# ===========================\n",
    "import pandas as pd\n",
    "from transformers import pipeline\n",
    "import sys\n",
    "from IPython.display import display, Markdown\n",
    "\n",
    "# Add the 'src' directory to the Python path to allow importing our engine\n",
    "sys.path.append('../')\n",
    "from src.analytics_engine import calculate_vendor_metrics, create_lending_score"
   ]
  },
  {
   "cell_type": "code",
   "execution_count": null,
   "metadata": {},
   "outputs": [],
   "source": [
    "# Load Model and Data\n",
    "# ===========================\n",
    "print(\"Loading NER model pipeline...\")\n",
    "# IMPORTANT: Hugging Face model ID\n",
    "model_id = \"abeni505/results\"\n",
    "ner_pipeline = pipeline(\"ner\", model=model_id)\n",
    "\n",
    "print(\"Loading scraped Telegram data...\")\n",
    "df = pd.read_csv('../data/scraped_telegram_data.csv')\n",
    "df.dropna(subset=['views', 'date'], inplace=True)\n",
    "print(f\"Loaded {len(df)} messages with complete metadata.\")\n"
   ]
  },
  {
   "cell_type": "code",
   "execution_count": null,
   "metadata": {},
   "outputs": [],
   "source": [
    "#Run the Analytics Engine\n",
    "# ================================\n",
    "# This step can take some time as it runs the NER model over many posts.\n",
    "# The progress bar from tqdm will show its progress.\n",
    "vendor_scorecard = calculate_vendor_metrics(df, ner_pipeline)\n",
    "final_scorecard = create_lending_score(vendor_scorecard)"
   ]
  },
  {
   "cell_type": "code",
   "execution_count": null,
   "metadata": {},
   "outputs": [],
   "source": [
    "# Display the Final Vendor Scorecard\n",
    "# ==========================================\n",
    "Markdown(\"# EthioMart FinTech Vendor Scorecard\")\n",
    "Markdown(\"\"\"\n",
    "This table ranks vendors based on their potential as candidates for micro-lending. The **Lending Score** is a composite metric calculated from a vendor's market reach (`Avg. Views/Post`) and their business consistency (`Posts/Week`). A higher score indicates a more active and visible vendor.\n",
    "\"\"\")\n",
    "display(final_scorecard.round(2))"
   ]
  }
 ],
 "metadata": {
  "kernelspec": {
   "display_name": "week-4-venv",
   "language": "python",
   "name": "python3"
  },
  "language_info": {
   "codemirror_mode": {
    "name": "ipython",
    "version": 3
   },
   "file_extension": ".py",
   "mimetype": "text/x-python",
   "name": "python",
   "nbconvert_exporter": "python",
   "pygments_lexer": "ipython3",
   "version": "3.12.2"
  }
 },
 "nbformat": 4,
 "nbformat_minor": 2
}
