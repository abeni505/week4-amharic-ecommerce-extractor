{
 "cells": [
  {
   "cell_type": "code",
   "execution_count": 4,
   "metadata": {},
   "outputs": [],
   "source": [
    "import os\n",
    "import pandas as pd\n",
    "from telethon.sync import TelegramClient\n",
    "from dotenv import load_dotenv\n",
    "import asyncio\n",
    "import nest_asyncio\n",
    "\n",
    "# Allows asyncio to run in a Jupyter notebook\n",
    "nest_asyncio.apply()"
   ]
  },
  {
   "cell_type": "code",
   "execution_count": 6,
   "metadata": {},
   "outputs": [],
   "source": [
    "# Load Credentials and Define Channels\n",
    "load_dotenv()\n",
    "api_id = int(os.getenv('API_ID'))\n",
    "api_hash = os.getenv('API_HASH')\n",
    "\n",
    "# List of target Telegram channels\n",
    "channels = [\n",
    "    'Shageronlinestore',\n",
    "    'ethioonlinemarket1',\n",
    "    'gebeyamart',\n",
    "    'ethioamazon',\n",
    "    'onlinemarketethiopia'\n",
    "]"
   ]
  },
  {
   "cell_type": "code",
   "execution_count": 7,
   "metadata": {},
   "outputs": [],
   "source": [
    "# Cell 3: Asynchronous Scraping Function\n",
    "async def fetch_messages(channel_name, limit=500):\n",
    "    \"\"\"Scrapes messages from a single Telegram channel.\"\"\"\n",
    "    all_messages = []\n",
    "    # Use 'anon' for the session name, Telethon will create a .session file\n",
    "    async with TelegramClient('anon', api_id, api_hash) as client:\n",
    "        print(f\"Fetching messages from {channel_name}...\")\n",
    "        try:\n",
    "            async for message in client.iter_messages(channel_name, limit=limit):\n",
    "                if message.text: # Only collect messages with text\n",
    "                    all_messages.append({\n",
    "                        'channel': channel_name,\n",
    "                        'message_id': message.id,\n",
    "                        'text': message.text,\n",
    "                        'date': message.date,\n",
    "                        'views': message.views\n",
    "                    })\n",
    "        except Exception as e:\n",
    "            print(f\"Could not fetch from {channel_name}. Reason: {e}\")\n",
    "    return all_messages"
   ]
  },
  {
   "cell_type": "code",
   "execution_count": 8,
   "metadata": {},
   "outputs": [],
   "source": [
    "async def main():\n",
    "    \"\"\"Main function to run scraping for all channels.\"\"\"\n",
    "    all_channel_data = []\n",
    "    for channel in channels:\n",
    "        messages = await fetch_messages(channel)\n",
    "        all_channel_data.extend(messages)\n",
    "        print(f\"Found {len(messages)} messages in {channel}.\")\n",
    "\n",
    "    # Convert to DataFrame\n",
    "    df = pd.DataFrame(all_channel_data)\n",
    "\n",
    "    # Basic Preprocessing\n",
    "    df.dropna(subset=['text'], inplace=True)\n",
    "    df['text'] = df['text'].str.strip()\n",
    "    df = df[df['text'] != '']\n",
    "\n",
    "    # Save the raw data\n",
    "    output_path = '../data/scraped_telegram_data.csv'\n",
    "    df.to_csv(output_path, index=False, encoding='utf-8-sig')\n",
    "    print(f\"\\nSuccessfully scraped and saved {len(df)} total messages to {output_path}\")"
   ]
  },
  {
   "cell_type": "code",
   "execution_count": 9,
   "metadata": {},
   "outputs": [
    {
     "name": "stdout",
     "output_type": "stream",
     "text": [
      "Signed in successfully as Abeni M; remember to not break the ToS or you will risk an account ban!\n",
      "Fetching messages from Shageronlinestore...\n",
      "Found 228 messages in Shageronlinestore.\n",
      "Fetching messages from ethioonlinemarket1...\n",
      "Found 0 messages in ethioonlinemarket1.\n",
      "Fetching messages from gebeyamart...\n",
      "Could not fetch from gebeyamart. Reason: Nobody is using this username, or the username is unacceptable. If the latter, it must match r\"[a-zA-Z][\\w\\d]{3,30}[a-zA-Z\\d]\" (caused by ResolveUsernameRequest)\n",
      "Found 0 messages in gebeyamart.\n",
      "Fetching messages from ethioamazon...\n",
      "Could not fetch from ethioamazon. Reason: Nobody is using this username, or the username is unacceptable. If the latter, it must match r\"[a-zA-Z][\\w\\d]{3,30}[a-zA-Z\\d]\" (caused by ResolveUsernameRequest)\n",
      "Found 0 messages in ethioamazon.\n",
      "Fetching messages from onlinemarketethiopia...\n",
      "Found 2 messages in onlinemarketethiopia.\n",
      "\n",
      "Successfully scraped and saved 230 total messages to ../data/scraped_telegram_data.csv\n"
     ]
    }
   ],
   "source": [
    "# Cell 5: Run the scraper\n",
    "# In a Jupyter cell, you can run the async main function directly using await\n",
    "await main()"
   ]
  }
 ],
 "metadata": {
  "kernelspec": {
   "display_name": "week-4-venv",
   "language": "python",
   "name": "python3"
  },
  "language_info": {
   "codemirror_mode": {
    "name": "ipython",
    "version": 3
   },
   "file_extension": ".py",
   "mimetype": "text/x-python",
   "name": "python",
   "nbconvert_exporter": "python",
   "pygments_lexer": "ipython3",
   "version": "3.12.2"
  }
 },
 "nbformat": 4,
 "nbformat_minor": 2
}
