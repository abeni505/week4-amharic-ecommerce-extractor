{
 "cells": [
  {
   "cell_type": "code",
   "execution_count": 2,
   "metadata": {},
   "outputs": [
    {
     "name": "stdout",
     "output_type": "stream",
     "text": [
      "Libraries imported successfully.\n",
      "Libraries imported successfully.\n"
     ]
    }
   ],
   "source": [
    "# Import pandas for creating a structured comparison table.\n",
    "# Import Markdown and display to render rich text directly in the notebook output.\n",
    "import pandas as pd\n",
    "from IPython.display import display, Markdown\n",
    "import os\n",
    "import json\n",
    "\n",
    "print(\"Libraries imported successfully.\")\n"
   ]
  },
  {
   "cell_type": "code",
   "execution_count": null,
   "metadata": {},
   "outputs": [],
   "source": [
    "# Programmatically Find and Load Best F1-Score\n",
    "# ====================================================\n",
    "# This cell finds the latest training checkpoint and extracts the\n",
    "# best F1-score achieved during the entire training run.\n",
    "\n",
    "# Define the main output directory from your Task 3 training\n",
    "output_dir = \"../models/xlm-roberta-amharic-ner\" # Or \"./results\" if you used that in Colab\n",
    "\n",
    "try:\n",
    "    # Find all checkpoint directories within the output directory\n",
    "    all_checkpoints = [d for d in os.listdir(output_dir) if d.startswith(\"checkpoint-\")]\n",
    "    \n",
    "    if not all_checkpoints:\n",
    "        raise FileNotFoundError(\"No checkpoint directories found.\")\n",
    "\n",
    "    # Sort the checkpoints numerically to find the latest one\n",
    "    latest_checkpoint = sorted(all_checkpoints, key=lambda x: int(x.split('-')[1]))[-1]\n",
    "    \n",
    "    # Construct the full path to the trainer_state.json file\n",
    "    trainer_state_path = os.path.join(output_dir, latest_checkpoint, \"trainer_state.json\")\n",
    "    print(f\"Found latest trainer state at: {trainer_state_path}\")\n",
    "\n",
    "    # Load the JSON file and extract the best F1-score\n",
    "    with open(trainer_state_path, \"r\") as f:\n",
    "        trainer_state = json.load(f)\n",
    "    best_f1_score = trainer_state[\"best_metric\"]\n",
    "    print(f\"Successfully loaded best F1-score from training: {best_f1_score:.4f}\")\n",
    "\n",
    "except FileNotFoundError:\n",
    "    print(f\"Error: Could not find 'trainer_state.json' in '{output_dir}'.\")\n",
    "    print(\"Please ensure the 'output_dir' variable is correct or enter the F1-score manually.\")\n",
    "    # Manually enter the score if the automatic method fails\n",
    "    best_f1_score = 0.9000 # <-- MANUALLY REPLACE if needed\n"
   ]
  }
 ],
 "metadata": {
  "kernelspec": {
   "display_name": "week-4-venv",
   "language": "python",
   "name": "python3"
  },
  "language_info": {
   "codemirror_mode": {
    "name": "ipython",
    "version": 3
   },
   "file_extension": ".py",
   "mimetype": "text/x-python",
   "name": "python",
   "nbconvert_exporter": "python",
   "pygments_lexer": "ipython3",
   "version": "3.12.2"
  }
 },
 "nbformat": 4,
 "nbformat_minor": 2
}
